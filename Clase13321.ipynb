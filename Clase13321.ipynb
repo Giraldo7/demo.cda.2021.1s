{
  "nbformat": 4,
  "nbformat_minor": 0,
  "metadata": {
    "colab": {
      "name": "Untitled1.ipynb",
      "provenance": [],
      "authorship_tag": "ABX9TyOcD0TebdvxTUfJbi89Mk1j",
      "include_colab_link": true
    },
    "kernelspec": {
      "name": "python3",
      "display_name": "Python 3"
    }
  },
  "cells": [
    {
      "cell_type": "markdown",
      "metadata": {
        "id": "view-in-github",
        "colab_type": "text"
      },
      "source": [
        "<a href=\"https://colab.research.google.com/github/Giraldo7/demo.cda.2021.1s/blob/main/Clase13321.ipynb\" target=\"_parent\"><img src=\"https://colab.research.google.com/assets/colab-badge.svg\" alt=\"Open In Colab\"/></a>"
      ]
    },
    {
      "cell_type": "code",
      "metadata": {
        "colab": {
          "base_uri": "https://localhost:8080/"
        },
        "id": "4pWXKacUk_7y",
        "outputId": "e26bb315-799d-4376-d3b5-2ccf4604886c"
      },
      "source": [
        "#Trabajar con archivos CSV\r\n",
        "%%writefile data.csv\r\n",
        "\"indice\", \"letra\", \"valor\"\r\n",
        "1,A,1000\r\n",
        "2,B,2000\r\n",
        "3,C,3000"
      ],
      "execution_count": 2,
      "outputs": [
        {
          "output_type": "stream",
          "text": [
            "Overwriting data.csv\n"
          ],
          "name": "stdout"
        }
      ]
    },
    {
      "cell_type": "code",
      "metadata": {
        "colab": {
          "base_uri": "https://localhost:8080/"
        },
        "id": "_7w5v3WsnBXy",
        "outputId": "5f5a89b5-27a4-4783-d2a6-6db43b65a4b1"
      },
      "source": [
        "with open('data.csv','r') as file:\r\n",
        "  for line in file:\r\n",
        "    print(line, end='')"
      ],
      "execution_count": 3,
      "outputs": [
        {
          "output_type": "stream",
          "text": [
            "\"indice\", \"letra\", \"valor\"\n",
            "1,A,1000\n",
            "2,B,2000\n",
            "3,C,3000"
          ],
          "name": "stdout"
        }
      ]
    },
    {
      "cell_type": "code",
      "metadata": {
        "colab": {
          "base_uri": "https://localhost:8080/"
        },
        "id": "o15MoUEjnPOF",
        "outputId": "63db1fa7-6711-4c6c-e25f-f4c61d387b6f"
      },
      "source": [
        "df= [\r\n",
        "     [\"indice\", \"Nombre\", \"Valor\"],\r\n",
        "     [1, \"A\", 1.01],\r\n",
        "     [2, \"B\", 2.02],\r\n",
        "     [3, \"C\", 3.03],\r\n",
        "     [4, \"D\", 4.04],\r\n",
        "     [5, \"E\", 5.05]\r\n",
        "         \r\n",
        "]\r\n",
        "df"
      ],
      "execution_count": 11,
      "outputs": [
        {
          "output_type": "execute_result",
          "data": {
            "text/plain": [
              "[['indice', 'Nombre', 'Valor'],\n",
              " [1, 'A', 1.01],\n",
              " [2, 'B', 2.02],\n",
              " [3, 'C', 3.03],\n",
              " [4, 'D', 4.04],\n",
              " [5, 'E', 5.05]]"
            ]
          },
          "metadata": {
            "tags": []
          },
          "execution_count": 11
        }
      ]
    },
    {
      "cell_type": "code",
      "metadata": {
        "id": "X-CZ_yiBoRB4"
      },
      "source": [
        "import csv\r\n",
        "with open('data.txt','w') as file:\r\n",
        "  wrt = csv.writer(\r\n",
        "        file, \r\n",
        "        delimiter='_',\r\n",
        "        quoting=csv.QUOTE_NONNUMERIC,\r\n",
        "  )\r\n",
        "  for row in df:\r\n",
        "      wrt.writerow(row)\r\n"
      ],
      "execution_count": 17,
      "outputs": []
    },
    {
      "cell_type": "code",
      "metadata": {
        "colab": {
          "base_uri": "https://localhost:8080/"
        },
        "id": "bY8OBxxTo2Mb",
        "outputId": "46d1f0f3-ac58-4750-fc6c-5a3a4f310dd5"
      },
      "source": [
        "!cat data.txt"
      ],
      "execution_count": 18,
      "outputs": [
        {
          "output_type": "stream",
          "text": [
            "\"indice\"_\"Nombre\"_\"Valor\"\r\n",
            "1_\"A\"_1.01\r\n",
            "2_\"B\"_2.02\r\n",
            "3_\"C\"_3.03\r\n",
            "4_\"D\"_4.04\r\n",
            "5_\"E\"_5.05\r\n"
          ],
          "name": "stdout"
        }
      ]
    },
    {
      "cell_type": "code",
      "metadata": {
        "colab": {
          "base_uri": "https://localhost:8080/"
        },
        "id": "X5wPXu8hqJmE",
        "outputId": "213ccb78-ce92-4fe5-b59e-d2d663cb74ad"
      },
      "source": [
        "with open(\"data.txt\",\"r\") as file:\r\n",
        "  rdr = csv.reader(\r\n",
        "      file,\r\n",
        "      delimiter=\"_\",\r\n",
        "      quoting=csv.QUOTE_ALL,\r\n",
        "      \r\n",
        "  )\r\n",
        "  for row in rdr:\r\n",
        "    print(row)"
      ],
      "execution_count": 19,
      "outputs": [
        {
          "output_type": "stream",
          "text": [
            "['indice', 'Nombre', 'Valor']\n",
            "['1', 'A', '1.01']\n",
            "['2', 'B', '2.02']\n",
            "['3', 'C', '3.03']\n",
            "['4', 'D', '4.04']\n",
            "['5', 'E', '5.05']\n"
          ],
          "name": "stdout"
        }
      ]
    },
    {
      "cell_type": "code",
      "metadata": {
        "colab": {
          "base_uri": "https://localhost:8080/",
          "height": 35
        },
        "id": "MkubpA4wrrUN",
        "outputId": "50190244-6e3d-4971-fca5-1ad73f042da2"
      },
      "source": [
        "import json\r\n",
        "json.dumps(df)"
      ],
      "execution_count": 20,
      "outputs": [
        {
          "output_type": "execute_result",
          "data": {
            "application/vnd.google.colaboratory.intrinsic+json": {
              "type": "string"
            },
            "text/plain": [
              "'[[\"indice\", \"Nombre\", \"Valor\"], [1, \"A\", 1.01], [2, \"B\", 2.02], [3, \"C\", 3.03], [4, \"D\", 4.04], [5, \"E\", 5.05]]'"
            ]
          },
          "metadata": {
            "tags": []
          },
          "execution_count": 20
        }
      ]
    },
    {
      "cell_type": "code",
      "metadata": {
        "colab": {
          "base_uri": "https://localhost:8080/",
          "height": 69
        },
        "id": "8B4vg2fetkJH",
        "outputId": "7773bc03-f284-420f-97ac-7620c271f1fe"
      },
      "source": [
        "json.dumps(\r\n",
        "    df,\r\n",
        "    sort_keys=True,\r\n",
        "    indent=2,\r\n",
        ")"
      ],
      "execution_count": 21,
      "outputs": [
        {
          "output_type": "execute_result",
          "data": {
            "application/vnd.google.colaboratory.intrinsic+json": {
              "type": "string"
            },
            "text/plain": [
              "'[\\n  [\\n    \"indice\",\\n    \"Nombre\",\\n    \"Valor\"\\n  ],\\n  [\\n    1,\\n    \"A\",\\n    1.01\\n  ],\\n  [\\n    2,\\n    \"B\",\\n    2.02\\n  ],\\n  [\\n    3,\\n    \"C\",\\n    3.03\\n  ],\\n  [\\n    4,\\n    \"D\",\\n    4.04\\n  ],\\n  [\\n    5,\\n    \"E\",\\n    5.05\\n  ]\\n]'"
            ]
          },
          "metadata": {
            "tags": []
          },
          "execution_count": 21
        }
      ]
    },
    {
      "cell_type": "code",
      "metadata": {
        "colab": {
          "base_uri": "https://localhost:8080/"
        },
        "id": "fz6S8C-Xt9-V",
        "outputId": "7ef46bee-de30-413c-c79b-405c37e7fd88"
      },
      "source": [
        "print(\r\n",
        "    json.dumps(\r\n",
        "    df,\r\n",
        "    sort_keys=True,\r\n",
        "    indent=2,\r\n",
        ")\r\n",
        "\r\n",
        ")"
      ],
      "execution_count": 23,
      "outputs": [
        {
          "output_type": "stream",
          "text": [
            "[\n",
            "  [\n",
            "    \"indice\",\n",
            "    \"Nombre\",\n",
            "    \"Valor\"\n",
            "  ],\n",
            "  [\n",
            "    1,\n",
            "    \"A\",\n",
            "    1.01\n",
            "  ],\n",
            "  [\n",
            "    2,\n",
            "    \"B\",\n",
            "    2.02\n",
            "  ],\n",
            "  [\n",
            "    3,\n",
            "    \"C\",\n",
            "    3.03\n",
            "  ],\n",
            "  [\n",
            "    4,\n",
            "    \"D\",\n",
            "    4.04\n",
            "  ],\n",
            "  [\n",
            "    5,\n",
            "    \"E\",\n",
            "    5.05\n",
            "  ]\n",
            "]\n"
          ],
          "name": "stdout"
        }
      ]
    },
    {
      "cell_type": "code",
      "metadata": {
        "colab": {
          "base_uri": "https://localhost:8080/",
          "height": 299
        },
        "id": "krsnYDhguCi7",
        "outputId": "51cf43ac-37b9-4915-cca5-de305a01984c"
      },
      "source": [
        "json.loads(df)"
      ],
      "execution_count": 24,
      "outputs": [
        {
          "output_type": "error",
          "ename": "TypeError",
          "evalue": "ignored",
          "traceback": [
            "\u001b[0;31m---------------------------------------------------------------------------\u001b[0m",
            "\u001b[0;31mTypeError\u001b[0m                                 Traceback (most recent call last)",
            "\u001b[0;32m<ipython-input-24-a568220e0369>\u001b[0m in \u001b[0;36m<module>\u001b[0;34m()\u001b[0m\n\u001b[0;32m----> 1\u001b[0;31m \u001b[0mjson\u001b[0m\u001b[0;34m.\u001b[0m\u001b[0mloads\u001b[0m\u001b[0;34m(\u001b[0m\u001b[0mdf\u001b[0m\u001b[0;34m)\u001b[0m\u001b[0;34m\u001b[0m\u001b[0;34m\u001b[0m\u001b[0m\n\u001b[0m",
            "\u001b[0;32m/usr/lib/python3.7/json/__init__.py\u001b[0m in \u001b[0;36mloads\u001b[0;34m(s, encoding, cls, object_hook, parse_float, parse_int, parse_constant, object_pairs_hook, **kw)\u001b[0m\n\u001b[1;32m    339\u001b[0m     \u001b[0;32melse\u001b[0m\u001b[0;34m:\u001b[0m\u001b[0;34m\u001b[0m\u001b[0;34m\u001b[0m\u001b[0m\n\u001b[1;32m    340\u001b[0m         \u001b[0;32mif\u001b[0m \u001b[0;32mnot\u001b[0m \u001b[0misinstance\u001b[0m\u001b[0;34m(\u001b[0m\u001b[0ms\u001b[0m\u001b[0;34m,\u001b[0m \u001b[0;34m(\u001b[0m\u001b[0mbytes\u001b[0m\u001b[0;34m,\u001b[0m \u001b[0mbytearray\u001b[0m\u001b[0;34m)\u001b[0m\u001b[0;34m)\u001b[0m\u001b[0;34m:\u001b[0m\u001b[0;34m\u001b[0m\u001b[0;34m\u001b[0m\u001b[0m\n\u001b[0;32m--> 341\u001b[0;31m             raise TypeError(f'the JSON object must be str, bytes or bytearray, '\n\u001b[0m\u001b[1;32m    342\u001b[0m                             f'not {s.__class__.__name__}')\n\u001b[1;32m    343\u001b[0m         \u001b[0ms\u001b[0m \u001b[0;34m=\u001b[0m \u001b[0ms\u001b[0m\u001b[0;34m.\u001b[0m\u001b[0mdecode\u001b[0m\u001b[0;34m(\u001b[0m\u001b[0mdetect_encoding\u001b[0m\u001b[0;34m(\u001b[0m\u001b[0ms\u001b[0m\u001b[0;34m)\u001b[0m\u001b[0;34m,\u001b[0m \u001b[0;34m'surrogatepass'\u001b[0m\u001b[0;34m)\u001b[0m\u001b[0;34m\u001b[0m\u001b[0;34m\u001b[0m\u001b[0m\n",
            "\u001b[0;31mTypeError\u001b[0m: the JSON object must be str, bytes or bytearray, not list"
          ]
        }
      ]
    },
    {
      "cell_type": "code",
      "metadata": {
        "id": "cwmpzSegukro"
      },
      "source": [
        "with open(\"data.json\", \"w\") as file:\r\n",
        "  json.dump(\r\n",
        "      obj=df,\r\n",
        "      fp=file\r\n",
        "  )"
      ],
      "execution_count": 25,
      "outputs": []
    },
    {
      "cell_type": "code",
      "metadata": {
        "colab": {
          "base_uri": "https://localhost:8080/"
        },
        "id": "5mrsZm-Ku11Z",
        "outputId": "faa15a48-3c7a-4e40-cea0-c408612a47e7"
      },
      "source": [
        "with open(\"data.json\", \"r\") as file:\r\n",
        "  x=json.load(fp=file)\r\n",
        "x"
      ],
      "execution_count": 26,
      "outputs": [
        {
          "output_type": "execute_result",
          "data": {
            "text/plain": [
              "[['indice', 'Nombre', 'Valor'],\n",
              " [1, 'A', 1.01],\n",
              " [2, 'B', 2.02],\n",
              " [3, 'C', 3.03],\n",
              " [4, 'D', 4.04],\n",
              " [5, 'E', 5.05]]"
            ]
          },
          "metadata": {
            "tags": []
          },
          "execution_count": 26
        }
      ]
    },
    {
      "cell_type": "code",
      "metadata": {
        "id": "idNbC7mDvuxM"
      },
      "source": [
        "import pickle"
      ],
      "execution_count": 27,
      "outputs": []
    },
    {
      "cell_type": "code",
      "metadata": {
        "id": "q50DcUs9weX7"
      },
      "source": [
        "with open(\"data.pickle\",\"wb\") as file:\r\n",
        "  pickle.dump(\r\n",
        "      obj=df,\r\n",
        "      file=file,\r\n",
        "  )\r\n",
        "del df"
      ],
      "execution_count": 28,
      "outputs": []
    },
    {
      "cell_type": "code",
      "metadata": {
        "colab": {
          "base_uri": "https://localhost:8080/",
          "height": 163
        },
        "id": "-_g5B1BrwyoZ",
        "outputId": "ea9bd735-af4a-48d9-b363-f55a2cc25852"
      },
      "source": [
        "df"
      ],
      "execution_count": 29,
      "outputs": [
        {
          "output_type": "error",
          "ename": "NameError",
          "evalue": "ignored",
          "traceback": [
            "\u001b[0;31m---------------------------------------------------------------------------\u001b[0m",
            "\u001b[0;31mNameError\u001b[0m                                 Traceback (most recent call last)",
            "\u001b[0;32m<ipython-input-29-00cf07b74dcd>\u001b[0m in \u001b[0;36m<module>\u001b[0;34m()\u001b[0m\n\u001b[0;32m----> 1\u001b[0;31m \u001b[0mdf\u001b[0m\u001b[0;34m\u001b[0m\u001b[0;34m\u001b[0m\u001b[0m\n\u001b[0m",
            "\u001b[0;31mNameError\u001b[0m: name 'df' is not defined"
          ]
        }
      ]
    },
    {
      "cell_type": "code",
      "metadata": {
        "colab": {
          "base_uri": "https://localhost:8080/"
        },
        "id": "jMQDQkowwzGL",
        "outputId": "9449d96b-ea36-4940-fb03-75f3b578cbd5"
      },
      "source": [
        "with open(\"data.pickle\",\"rb\") as file:\r\n",
        "  df=pickle.load(file)\r\n",
        "df"
      ],
      "execution_count": 31,
      "outputs": [
        {
          "output_type": "execute_result",
          "data": {
            "text/plain": [
              "[['indice', 'Nombre', 'Valor'],\n",
              " [1, 'A', 1.01],\n",
              " [2, 'B', 2.02],\n",
              " [3, 'C', 3.03],\n",
              " [4, 'D', 4.04],\n",
              " [5, 'E', 5.05]]"
            ]
          },
          "metadata": {
            "tags": []
          },
          "execution_count": 31
        }
      ]
    },
    {
      "cell_type": "code",
      "metadata": {
        "id": "Oy5vL81Aw7ro"
      },
      "source": [
        "#Listas, tuplas y diccionarios\r\n",
        "a=[1,2,3,4,5]"
      ],
      "execution_count": 32,
      "outputs": []
    },
    {
      "cell_type": "code",
      "metadata": {
        "id": "WtjHGHywx0R0"
      },
      "source": [
        "a.append(6)"
      ],
      "execution_count": 33,
      "outputs": []
    },
    {
      "cell_type": "code",
      "metadata": {
        "colab": {
          "base_uri": "https://localhost:8080/"
        },
        "id": "u5JDyfK9x178",
        "outputId": "6292f431-b660-4d49-9e3b-bd1252c37e0b"
      },
      "source": [
        "a"
      ],
      "execution_count": 34,
      "outputs": [
        {
          "output_type": "execute_result",
          "data": {
            "text/plain": [
              "[1, 2, 3, 4, 5, 6]"
            ]
          },
          "metadata": {
            "tags": []
          },
          "execution_count": 34
        }
      ]
    },
    {
      "cell_type": "code",
      "metadata": {
        "id": "kxQi0arQx2K_"
      },
      "source": [
        "b=[7,8,9]\r\n",
        "a.extend(b)"
      ],
      "execution_count": 35,
      "outputs": []
    },
    {
      "cell_type": "code",
      "metadata": {
        "colab": {
          "base_uri": "https://localhost:8080/"
        },
        "id": "JNTA7odHy2Kz",
        "outputId": "969cb1ea-d88a-4722-98d2-222d1bdf6c96"
      },
      "source": [
        "a"
      ],
      "execution_count": 36,
      "outputs": [
        {
          "output_type": "execute_result",
          "data": {
            "text/plain": [
              "[1, 2, 3, 4, 5, 6, 7, 8, 9]"
            ]
          },
          "metadata": {
            "tags": []
          },
          "execution_count": 36
        }
      ]
    },
    {
      "cell_type": "code",
      "metadata": {
        "colab": {
          "base_uri": "https://localhost:8080/"
        },
        "id": "pyHFl-h5y3KC",
        "outputId": "d403044f-c983-4a54-8ff5-2a778ef78981"
      },
      "source": [
        "a = list(range(10))\r\n",
        "a"
      ],
      "execution_count": 41,
      "outputs": [
        {
          "output_type": "execute_result",
          "data": {
            "text/plain": [
              "[0, 1, 2, 3, 4, 5, 6, 7, 8, 9]"
            ]
          },
          "metadata": {
            "tags": []
          },
          "execution_count": 41
        }
      ]
    },
    {
      "cell_type": "code",
      "metadata": {
        "colab": {
          "base_uri": "https://localhost:8080/"
        },
        "id": "U7-ueZF41Bwr",
        "outputId": "1ff3f67f-47b1-490d-d2bc-d490a5ab197a"
      },
      "source": [
        "b=[]\r\n",
        "for e in a:\r\n",
        "  if e > 4:\r\n",
        "    b.append(e)\r\n",
        "\r\n",
        "b"
      ],
      "execution_count": 42,
      "outputs": [
        {
          "output_type": "execute_result",
          "data": {
            "text/plain": [
              "[5, 6, 7, 8, 9]"
            ]
          },
          "metadata": {
            "tags": []
          },
          "execution_count": 42
        }
      ]
    },
    {
      "cell_type": "code",
      "metadata": {
        "colab": {
          "base_uri": "https://localhost:8080/"
        },
        "id": "fX4jUOCz1SmX",
        "outputId": "8e9eabf8-f2b2-4969-c6ea-d9480b354d5c"
      },
      "source": [
        "b=[e for e in a if e > 4]\r\n",
        "b"
      ],
      "execution_count": 43,
      "outputs": [
        {
          "output_type": "execute_result",
          "data": {
            "text/plain": [
              "[5, 6, 7, 8, 9]"
            ]
          },
          "metadata": {
            "tags": []
          },
          "execution_count": 43
        }
      ]
    },
    {
      "cell_type": "code",
      "metadata": {
        "colab": {
          "base_uri": "https://localhost:8080/"
        },
        "id": "zdixjOHp2A7z",
        "outputId": "10ae5c6f-a9f6-414c-b0e2-590a53d0d1ca"
      },
      "source": [
        "for w in filter(lambda u: u > 4, a):\r\n",
        "  print(w)"
      ],
      "execution_count": 44,
      "outputs": [
        {
          "output_type": "stream",
          "text": [
            "5\n",
            "6\n",
            "7\n",
            "8\n",
            "9\n"
          ],
          "name": "stdout"
        }
      ]
    },
    {
      "cell_type": "code",
      "metadata": {
        "colab": {
          "base_uri": "https://localhost:8080/"
        },
        "id": "wJ0rRhF524yc",
        "outputId": "5fc324a2-f88a-4551-dde7-0e224f6aa79f"
      },
      "source": [
        "#sumarle 10 a todos los elementos\r\n",
        "for i,_ in enumerate(a):\r\n",
        "  a[i] += 10\r\n",
        "a"
      ],
      "execution_count": 45,
      "outputs": [
        {
          "output_type": "execute_result",
          "data": {
            "text/plain": [
              "[10, 11, 12, 13, 14, 15, 16, 17, 18, 19]"
            ]
          },
          "metadata": {
            "tags": []
          },
          "execution_count": 45
        }
      ]
    },
    {
      "cell_type": "code",
      "metadata": {
        "colab": {
          "base_uri": "https://localhost:8080/"
        },
        "id": "c8DdAMCW3M7Y",
        "outputId": "97e5ef3a-a9b1-446a-fcb8-a9e7fa15b182"
      },
      "source": [
        "a = list(range(10))\r\n",
        "a"
      ],
      "execution_count": 46,
      "outputs": [
        {
          "output_type": "execute_result",
          "data": {
            "text/plain": [
              "[0, 1, 2, 3, 4, 5, 6, 7, 8, 9]"
            ]
          },
          "metadata": {
            "tags": []
          },
          "execution_count": 46
        }
      ]
    },
    {
      "cell_type": "code",
      "metadata": {
        "colab": {
          "base_uri": "https://localhost:8080/"
        },
        "id": "kAnO5vyF3bNv",
        "outputId": "e86fc9e8-67c7-4afc-aa36-3c4335d29ab2"
      },
      "source": [
        "[u+10 for u in a]"
      ],
      "execution_count": 47,
      "outputs": [
        {
          "output_type": "execute_result",
          "data": {
            "text/plain": [
              "[10, 11, 12, 13, 14, 15, 16, 17, 18, 19]"
            ]
          },
          "metadata": {
            "tags": []
          },
          "execution_count": 47
        }
      ]
    },
    {
      "cell_type": "code",
      "metadata": {
        "colab": {
          "base_uri": "https://localhost:8080/"
        },
        "id": "mCxyjUWV3fg7",
        "outputId": "efbc2541-6751-4010-9a79-ac5fd8f56c59"
      },
      "source": [
        "a"
      ],
      "execution_count": 48,
      "outputs": [
        {
          "output_type": "execute_result",
          "data": {
            "text/plain": [
              "[0, 1, 2, 3, 4, 5, 6, 7, 8, 9]"
            ]
          },
          "metadata": {
            "tags": []
          },
          "execution_count": 48
        }
      ]
    },
    {
      "cell_type": "code",
      "metadata": {
        "colab": {
          "base_uri": "https://localhost:8080/"
        },
        "id": "Yrl7eJSB3f80",
        "outputId": "d081b113-fff5-49ae-f340-a790b393e65b"
      },
      "source": [
        "list(map(lambda u: u+10, a))"
      ],
      "execution_count": 49,
      "outputs": [
        {
          "output_type": "execute_result",
          "data": {
            "text/plain": [
              "[10, 11, 12, 13, 14, 15, 16, 17, 18, 19]"
            ]
          },
          "metadata": {
            "tags": []
          },
          "execution_count": 49
        }
      ]
    },
    {
      "cell_type": "code",
      "metadata": {
        "colab": {
          "base_uri": "https://localhost:8080/"
        },
        "id": "qBseVsbL3tcQ",
        "outputId": "4948c979-ee70-4344-8fd5-12644b39d5a9"
      },
      "source": [
        "a"
      ],
      "execution_count": 50,
      "outputs": [
        {
          "output_type": "execute_result",
          "data": {
            "text/plain": [
              "[0, 1, 2, 3, 4, 5, 6, 7, 8, 9]"
            ]
          },
          "metadata": {
            "tags": []
          },
          "execution_count": 50
        }
      ]
    },
    {
      "cell_type": "code",
      "metadata": {
        "colab": {
          "base_uri": "https://localhost:8080/"
        },
        "id": "IfIXmkYt3ubD",
        "outputId": "788f56e4-d218-46b0-f0c5-224ba01d3c4e"
      },
      "source": [
        "a, *middle, c=[1,2,3,4,5]\r\n",
        "a, middle, c"
      ],
      "execution_count": 51,
      "outputs": [
        {
          "output_type": "execute_result",
          "data": {
            "text/plain": [
              "(1, [2, 3, 4], 5)"
            ]
          },
          "metadata": {
            "tags": []
          },
          "execution_count": 51
        }
      ]
    },
    {
      "cell_type": "code",
      "metadata": {
        "colab": {
          "base_uri": "https://localhost:8080/"
        },
        "id": "IOfvh32V4cNM",
        "outputId": "007a86ea-e53b-4086-dd23-7ffd733a50f6"
      },
      "source": [
        "squares = []\r\n",
        "for x in range(10):\r\n",
        "  squares.append(x**2)\r\n",
        "\r\n",
        "squares"
      ],
      "execution_count": 53,
      "outputs": [
        {
          "output_type": "execute_result",
          "data": {
            "text/plain": [
              "[0, 1, 4, 9, 16, 25, 36, 49, 64, 81]"
            ]
          },
          "metadata": {
            "tags": []
          },
          "execution_count": 53
        }
      ]
    },
    {
      "cell_type": "code",
      "metadata": {
        "colab": {
          "base_uri": "https://localhost:8080/"
        },
        "id": "rFY8VRhe-vJU",
        "outputId": "34167874-6840-4433-87ad-38aee55f6ed8"
      },
      "source": [
        "squares = [x**2 for x in range(10)]\r\n",
        "squares"
      ],
      "execution_count": 54,
      "outputs": [
        {
          "output_type": "execute_result",
          "data": {
            "text/plain": [
              "[0, 1, 4, 9, 16, 25, 36, 49, 64, 81]"
            ]
          },
          "metadata": {
            "tags": []
          },
          "execution_count": 54
        }
      ]
    },
    {
      "cell_type": "code",
      "metadata": {
        "colab": {
          "base_uri": "https://localhost:8080/"
        },
        "id": "wj-pbbNC--bi",
        "outputId": "a2e90810-dd94-4c2a-9d3b-2e182962d3dd"
      },
      "source": [
        "# formar una lista con elementos no repetidos\r\n",
        "result=[]\r\n",
        "for x in [1,2,3]:\r\n",
        "  for y in [3,1,4]:\r\n",
        "    if x != y:\r\n",
        "      result.append((x,y))\r\n",
        "result\r\n"
      ],
      "execution_count": 57,
      "outputs": [
        {
          "output_type": "execute_result",
          "data": {
            "text/plain": [
              "[(1, 3), (1, 4), (2, 3), (2, 1), (2, 4), (3, 1), (3, 4)]"
            ]
          },
          "metadata": {
            "tags": []
          },
          "execution_count": 57
        }
      ]
    },
    {
      "cell_type": "code",
      "metadata": {
        "colab": {
          "base_uri": "https://localhost:8080/"
        },
        "id": "ORPQr00n_lTI",
        "outputId": "7275a4c8-bd80-47c6-a464-29a31b23d2f8"
      },
      "source": [
        "# Forma comprensiva\r\n",
        "[(x,y) for x in [1,2,3] for y in [3,1,4] if x !=y]"
      ],
      "execution_count": 58,
      "outputs": [
        {
          "output_type": "execute_result",
          "data": {
            "text/plain": [
              "[(1, 3), (1, 4), (2, 3), (2, 1), (2, 4), (3, 1), (3, 4)]"
            ]
          },
          "metadata": {
            "tags": []
          },
          "execution_count": 58
        }
      ]
    },
    {
      "cell_type": "code",
      "metadata": {
        "colab": {
          "base_uri": "https://localhost:8080/"
        },
        "id": "njHrbGft_3XP",
        "outputId": "625dbed7-69e7-485d-f8d9-ba8368e094d5"
      },
      "source": [
        "[\"linea \" + str(i) for i in range(10)]"
      ],
      "execution_count": 59,
      "outputs": [
        {
          "output_type": "execute_result",
          "data": {
            "text/plain": [
              "['linea 0',\n",
              " 'linea 1',\n",
              " 'linea 2',\n",
              " 'linea 3',\n",
              " 'linea 4',\n",
              " 'linea 5',\n",
              " 'linea 6',\n",
              " 'linea 7',\n",
              " 'linea 8',\n",
              " 'linea 9']"
            ]
          },
          "metadata": {
            "tags": []
          },
          "execution_count": 59
        }
      ]
    },
    {
      "cell_type": "code",
      "metadata": {
        "colab": {
          "base_uri": "https://localhost:8080/"
        },
        "id": "VbbIDyEaAlt3",
        "outputId": "67432422-aab5-480b-eb72-4584f9756550"
      },
      "source": [
        "import re\r\n",
        "[i for i in range(1,21) if re.search('^1', str(i))]"
      ],
      "execution_count": 63,
      "outputs": [
        {
          "output_type": "execute_result",
          "data": {
            "text/plain": [
              "[1, 10, 11, 12, 13, 14, 15, 16, 17, 18, 19]"
            ]
          },
          "metadata": {
            "tags": []
          },
          "execution_count": 63
        }
      ]
    },
    {
      "cell_type": "code",
      "metadata": {
        "colab": {
          "base_uri": "https://localhost:8080/"
        },
        "id": "Hpp-qKgUBCdn",
        "outputId": "ef40044f-4bcf-45d5-8982-161ddfcc866b"
      },
      "source": [
        "x = [\r\n",
        "     \"1234567890\",\r\n",
        "     \"ABCDEFGHIJ\",\r\n",
        "     \"abcdefghij\",\r\n",
        "     \r\n",
        "]\r\n",
        "#para cada fila en x, \r\n",
        "[row[2:5] for row in x]"
      ],
      "execution_count": 64,
      "outputs": [
        {
          "output_type": "execute_result",
          "data": {
            "text/plain": [
              "['345', 'CDE', 'cde']"
            ]
          },
          "metadata": {
            "tags": []
          },
          "execution_count": 64
        }
      ]
    },
    {
      "cell_type": "code",
      "metadata": {
        "colab": {
          "base_uri": "https://localhost:8080/"
        },
        "id": "9oNmEuehBlo2",
        "outputId": "8db42d27-6f18-43d9-ef8a-5543136c87d2"
      },
      "source": [
        "x = [\r\n",
        "     \r\n",
        "     \"-->[123]<--\",\r\n",
        "     \"---->[abc]<----\",\r\n",
        "     \"---------->[ABCD]<----------\",   \r\n",
        "     \r\n",
        "]\r\n",
        "[row[row.find('[')+1:row.find(']')] for row in x] #buscar los datos entre corchetes y retornarlos"
      ],
      "execution_count": 66,
      "outputs": [
        {
          "output_type": "execute_result",
          "data": {
            "text/plain": [
              "['123', 'abc', 'ABCD']"
            ]
          },
          "metadata": {
            "tags": []
          },
          "execution_count": 66
        }
      ]
    },
    {
      "cell_type": "code",
      "metadata": {
        "id": "vAy1ZnnwCRHI"
      },
      "source": [
        "x = [\"Bash is a Unix shell and command language\",\r\n",
        "     \"written by Brian Fox for the \",\r\n",
        "     \"GNU Project as a free software\",\r\n",
        "     \"replacement for the Bourne shell.\"]"
      ],
      "execution_count": 67,
      "outputs": []
    },
    {
      "cell_type": "code",
      "metadata": {
        "colab": {
          "base_uri": "https://localhost:8080/"
        },
        "id": "wpoHFYSCC2Ch",
        "outputId": "6ea955d7-676c-4bdd-dac2-7fd093e94754"
      },
      "source": [
        "[row.split() for row in x]"
      ],
      "execution_count": 68,
      "outputs": [
        {
          "output_type": "execute_result",
          "data": {
            "text/plain": [
              "[['Bash', 'is', 'a', 'Unix', 'shell', 'and', 'command', 'language'],\n",
              " ['written', 'by', 'Brian', 'Fox', 'for', 'the'],\n",
              " ['GNU', 'Project', 'as', 'a', 'free', 'software'],\n",
              " ['replacement', 'for', 'the', 'Bourne', 'shell.']]"
            ]
          },
          "metadata": {
            "tags": []
          },
          "execution_count": 68
        }
      ]
    },
    {
      "cell_type": "code",
      "metadata": {
        "colab": {
          "base_uri": "https://localhost:8080/",
          "height": 35
        },
        "id": "FBIq9xzYC649",
        "outputId": "8e68e572-d16a-46be-a4c1-3c1cd1633eb1"
      },
      "source": [
        "\" \".join(['Bash', 'is', 'a', 'Unix', 'shell', 'and', 'command', 'language'])"
      ],
      "execution_count": 70,
      "outputs": [
        {
          "output_type": "execute_result",
          "data": {
            "application/vnd.google.colaboratory.intrinsic+json": {
              "type": "string"
            },
            "text/plain": [
              "'Bash is a Unix shell and command language'"
            ]
          },
          "metadata": {
            "tags": []
          },
          "execution_count": 70
        }
      ]
    },
    {
      "cell_type": "code",
      "metadata": {
        "colab": {
          "base_uri": "https://localhost:8080/"
        },
        "id": "vYGVhKqNDMlS",
        "outputId": "c272d93a-45b4-4309-aac0-91639954ef0b"
      },
      "source": [
        "m = [\r\n",
        "     [1,2,3],\r\n",
        "     [4,5,6],\r\n",
        "     [7,9,9]\r\n",
        "\r\n",
        "]\r\n",
        "m"
      ],
      "execution_count": 71,
      "outputs": [
        {
          "output_type": "execute_result",
          "data": {
            "text/plain": [
              "[[1, 2, 3], [4, 5, 6], [7, 9, 9]]"
            ]
          },
          "metadata": {
            "tags": []
          },
          "execution_count": 71
        }
      ]
    },
    {
      "cell_type": "code",
      "metadata": {
        "colab": {
          "base_uri": "https://localhost:8080/"
        },
        "id": "Q0bRT-eGEEAa",
        "outputId": "500d6680-c642-4ccb-d22e-6577586f7fa8"
      },
      "source": [
        "result = []\r\n",
        "for row in m:\r\n",
        "  for elem in row:\r\n",
        "    result.append(elem)\r\n",
        "result"
      ],
      "execution_count": 72,
      "outputs": [
        {
          "output_type": "execute_result",
          "data": {
            "text/plain": [
              "[1, 2, 3, 4, 5, 6, 7, 9, 9]"
            ]
          },
          "metadata": {
            "tags": []
          },
          "execution_count": 72
        }
      ]
    },
    {
      "cell_type": "code",
      "metadata": {
        "colab": {
          "base_uri": "https://localhost:8080/"
        },
        "id": "I1UiaiH4EMcG",
        "outputId": "fc454fcb-721b-41d2-da1a-d21d343694fb"
      },
      "source": [
        "m"
      ],
      "execution_count": 73,
      "outputs": [
        {
          "output_type": "execute_result",
          "data": {
            "text/plain": [
              "[[1, 2, 3], [4, 5, 6], [7, 9, 9]]"
            ]
          },
          "metadata": {
            "tags": []
          },
          "execution_count": 73
        }
      ]
    },
    {
      "cell_type": "code",
      "metadata": {
        "id": "rDaAimrbEYC6"
      },
      "source": [
        "m = [\r\n",
        "     [1,2,3],\r\n",
        "     [4,5,6],\r\n",
        "     [7,8,9]\r\n",
        "]"
      ],
      "execution_count": 74,
      "outputs": []
    },
    {
      "cell_type": "code",
      "metadata": {
        "colab": {
          "base_uri": "https://localhost:8080/"
        },
        "id": "vW2Tphl7Ee4u",
        "outputId": "9fd1f831-c58c-4e9a-991d-3956a6255735"
      },
      "source": [
        "[[elem**2 for elem in row] for row in m]"
      ],
      "execution_count": 75,
      "outputs": [
        {
          "output_type": "execute_result",
          "data": {
            "text/plain": [
              "[[1, 4, 9], [16, 25, 36], [49, 64, 81]]"
            ]
          },
          "metadata": {
            "tags": []
          },
          "execution_count": 75
        }
      ]
    },
    {
      "cell_type": "code",
      "metadata": {
        "colab": {
          "base_uri": "https://localhost:8080/"
        },
        "id": "J_-oTUQJEsiS",
        "outputId": "1af0fab3-5585-47e9-83c7-9c31acf7763f"
      },
      "source": [
        "#contar lineas de un archivo\r\n",
        "!cat data.txt"
      ],
      "execution_count": 78,
      "outputs": [
        {
          "output_type": "stream",
          "text": [
            "\"indice\"_\"Nombre\"_\"Valor\"\r\n",
            "1_\"A\"_1.01\r\n",
            "2_\"B\"_2.02\r\n",
            "3_\"C\"_3.03\r\n",
            "4_\"D\"_4.04\r\n",
            "5_\"E\"_5.05\r\n"
          ],
          "name": "stdout"
        }
      ]
    },
    {
      "cell_type": "code",
      "metadata": {
        "colab": {
          "base_uri": "https://localhost:8080/"
        },
        "id": "t_KLheGxE_Xv",
        "outputId": "7470b19c-0e81-4d92-edec-9a067f507f83"
      },
      "source": [
        "with open(\"data.txt\", \"r\") as file:\r\n",
        "  lines = file.readlines()\r\n",
        "  content = \" \".join(lines) #crea string y cada linea va con la que sigue con espacio en blanco\r\n",
        "  print(len(content.split())) #contar las palabras partidas por espacio en blanco"
      ],
      "execution_count": 82,
      "outputs": [
        {
          "output_type": "stream",
          "text": [
            "6\n"
          ],
          "name": "stdout"
        }
      ]
    },
    {
      "cell_type": "code",
      "metadata": {
        "colab": {
          "base_uri": "https://localhost:8080/"
        },
        "id": "deM_ThfJFYcO",
        "outputId": "1cb1e002-4f28-4d2a-d63a-cd4e66fcf842"
      },
      "source": [
        "with open(\"data.txt\", \"r\") as file:\r\n",
        "  lines = file.readlines()\r\n",
        "  content = \"\".join(lines) #crea string y cada linea va con la que sigue con espacio en blanco\r\n",
        "  print(len(content)) #contar las palabras partidas por espacio en blanco"
      ],
      "execution_count": 83,
      "outputs": [
        {
          "output_type": "stream",
          "text": [
            "81\n"
          ],
          "name": "stdout"
        }
      ]
    },
    {
      "cell_type": "code",
      "metadata": {
        "colab": {
          "base_uri": "https://localhost:8080/"
        },
        "id": "RIIWujaCGRtL",
        "outputId": "ce6bc455-b049-4dac-c867-5cb351feb4ff"
      },
      "source": [
        "%%writefile data.csv\r\n",
        "Date, Year, CustomerID, Value\r\n",
        "2013-01-12, 2013, 1, 100\r\n",
        "2014-05-12, 2014, 1, 100\r\n",
        "2013-02-25, 2013, 2, 200\r\n",
        "2013-04-04, 2013, 1, 100\r\n",
        "2013-06-21, 2013, 2, 200\r\n",
        "2014-05-18, 2014, 1, 100\r\n",
        "2014-06-23, 2014, 2, 200\r\n",
        "2013-02-28, 2013, 1, 100\r\n",
        "2013-08-02, 2013, 1, 100"
      ],
      "execution_count": 84,
      "outputs": [
        {
          "output_type": "stream",
          "text": [
            "Overwriting data.csv\n"
          ],
          "name": "stdout"
        }
      ]
    },
    {
      "cell_type": "code",
      "metadata": {
        "colab": {
          "base_uri": "https://localhost:8080/"
        },
        "id": "KBEX-3rYG064",
        "outputId": "b5803fb8-fd43-487e-c676-ce021f111064"
      },
      "source": [
        "!cat data.csv"
      ],
      "execution_count": 85,
      "outputs": [
        {
          "output_type": "stream",
          "text": [
            "Date, Year, CustomerID, Value\n",
            "2013-01-12, 2013, 1, 100\n",
            "2014-05-12, 2014, 1, 100\n",
            "2013-02-25, 2013, 2, 200\n",
            "2013-04-04, 2013, 1, 100\n",
            "2013-06-21, 2013, 2, 200\n",
            "2014-05-18, 2014, 1, 100\n",
            "2014-06-23, 2014, 2, 200\n",
            "2013-02-28, 2013, 1, 100\n",
            "2013-08-02, 2013, 1, 100"
          ],
          "name": "stdout"
        }
      ]
    },
    {
      "cell_type": "code",
      "metadata": {
        "colab": {
          "base_uri": "https://localhost:8080/"
        },
        "id": "imN8vXqLG27e",
        "outputId": "b6556227-b32d-4fcc-a0e8-8962e7f8211f"
      },
      "source": [
        "with open(\"data.csv\", \"r\") as file:\r\n",
        "  x = file.readlines()\r\n",
        "x = [row[:-1] if row [-1] == \"\\n\" else row for row in x] #quitar los \\n\r\n",
        "x"
      ],
      "execution_count": 88,
      "outputs": [
        {
          "output_type": "execute_result",
          "data": {
            "text/plain": [
              "['Date, Year, CustomerID, Value',\n",
              " '2013-01-12, 2013, 1, 100',\n",
              " '2014-05-12, 2014, 1, 100',\n",
              " '2013-02-25, 2013, 2, 200',\n",
              " '2013-04-04, 2013, 1, 100',\n",
              " '2013-06-21, 2013, 2, 200',\n",
              " '2014-05-18, 2014, 1, 100',\n",
              " '2014-06-23, 2014, 2, 200',\n",
              " '2013-02-28, 2013, 1, 100',\n",
              " '2013-08-02, 2013, 1, 100']"
            ]
          },
          "metadata": {
            "tags": []
          },
          "execution_count": 88
        }
      ]
    },
    {
      "cell_type": "code",
      "metadata": {
        "id": "6DULMOAsHW65"
      },
      "source": [
        "with open(\"data.csv\", \"r\") as file:\r\n",
        "  x = file.readlines()\r\n",
        "x = [row.replace('\\n',\"\") for row in x]\r\n",
        "x = [row.split(\",\") for row in x]"
      ],
      "execution_count": 91,
      "outputs": []
    },
    {
      "cell_type": "code",
      "metadata": {
        "colab": {
          "base_uri": "https://localhost:8080/"
        },
        "id": "kt1LuGrCIyYV",
        "outputId": "1b7983d8-a958-4155-8433-f9928dd7cba4"
      },
      "source": [
        "x"
      ],
      "execution_count": 92,
      "outputs": [
        {
          "output_type": "execute_result",
          "data": {
            "text/plain": [
              "[['Date', ' Year', ' CustomerID', ' Value'],\n",
              " ['2013-01-12', ' 2013', ' 1', ' 100'],\n",
              " ['2014-05-12', ' 2014', ' 1', ' 100'],\n",
              " ['2013-02-25', ' 2013', ' 2', ' 200'],\n",
              " ['2013-04-04', ' 2013', ' 1', ' 100'],\n",
              " ['2013-06-21', ' 2013', ' 2', ' 200'],\n",
              " ['2014-05-18', ' 2014', ' 1', ' 100'],\n",
              " ['2014-06-23', ' 2014', ' 2', ' 200'],\n",
              " ['2013-02-28', ' 2013', ' 1', ' 100'],\n",
              " ['2013-08-02', ' 2013', ' 1', ' 100']]"
            ]
          },
          "metadata": {
            "tags": []
          },
          "execution_count": 92
        }
      ]
    },
    {
      "cell_type": "code",
      "metadata": {
        "colab": {
          "base_uri": "https://localhost:8080/"
        },
        "id": "aw6FgFP5Iy3e",
        "outputId": "e2e0009f-368a-4604-b6d1-d728d4ca9b3f"
      },
      "source": [
        "[row[0].split(\"-\")[1] for row in x[1:]] #toma el mes del archivo sin tomar el encabezado"
      ],
      "execution_count": 93,
      "outputs": [
        {
          "output_type": "execute_result",
          "data": {
            "text/plain": [
              "['01', '05', '02', '04', '06', '05', '06', '02', '08']"
            ]
          },
          "metadata": {
            "tags": []
          },
          "execution_count": 93
        }
      ]
    },
    {
      "cell_type": "code",
      "metadata": {
        "colab": {
          "base_uri": "https://localhost:8080/"
        },
        "id": "cbJBVvDxKBf_",
        "outputId": "df76fd81-9965-4702-a7a4-23a688da6a7d"
      },
      "source": [
        "x[1:] = [row + [row[0].split(\"-\")[1]] for row in x[1:]]\r\n",
        "x[0].append(\"Month\")\r\n",
        "x"
      ],
      "execution_count": 94,
      "outputs": [
        {
          "output_type": "execute_result",
          "data": {
            "text/plain": [
              "[['Date', ' Year', ' CustomerID', ' Value', 'Month'],\n",
              " ['2013-01-12', ' 2013', ' 1', ' 100', '01'],\n",
              " ['2014-05-12', ' 2014', ' 1', ' 100', '05'],\n",
              " ['2013-02-25', ' 2013', ' 2', ' 200', '02'],\n",
              " ['2013-04-04', ' 2013', ' 1', ' 100', '04'],\n",
              " ['2013-06-21', ' 2013', ' 2', ' 200', '06'],\n",
              " ['2014-05-18', ' 2014', ' 1', ' 100', '05'],\n",
              " ['2014-06-23', ' 2014', ' 2', ' 200', '06'],\n",
              " ['2013-02-28', ' 2013', ' 1', ' 100', '02'],\n",
              " ['2013-08-02', ' 2013', ' 1', ' 100', '08']]"
            ]
          },
          "metadata": {
            "tags": []
          },
          "execution_count": 94
        }
      ]
    },
    {
      "cell_type": "code",
      "metadata": {
        "colab": {
          "base_uri": "https://localhost:8080/"
        },
        "id": "G360tvoEK7ka",
        "outputId": "94428235-22da-4b13-813e-526bc4f35080"
      },
      "source": [
        "[row for row in x if row[1] == \" 2013\"]"
      ],
      "execution_count": 95,
      "outputs": [
        {
          "output_type": "execute_result",
          "data": {
            "text/plain": [
              "[['2013-01-12', ' 2013', ' 1', ' 100', '01'],\n",
              " ['2013-02-25', ' 2013', ' 2', ' 200', '02'],\n",
              " ['2013-04-04', ' 2013', ' 1', ' 100', '04'],\n",
              " ['2013-06-21', ' 2013', ' 2', ' 200', '06'],\n",
              " ['2013-02-28', ' 2013', ' 1', ' 100', '02'],\n",
              " ['2013-08-02', ' 2013', ' 1', ' 100', '08']]"
            ]
          },
          "metadata": {
            "tags": []
          },
          "execution_count": 95
        }
      ]
    },
    {
      "cell_type": "code",
      "metadata": {
        "id": "2hNg8YoSLThj"
      },
      "source": [
        ""
      ],
      "execution_count": null,
      "outputs": []
    }
  ]
}